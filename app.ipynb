{
 "cells": [
  {
   "cell_type": "code",
   "execution_count": null,
   "id": "914e24cc-1383-4384-b906-acc682655b7b",
   "metadata": {},
   "outputs": [
    {
     "name": "stdout",
     "output_type": "stream",
     "text": [
      " * Serving Flask app '__main__'\n",
      " * Debug mode: on\n"
     ]
    },
    {
     "name": "stderr",
     "output_type": "stream",
     "text": [
      "WARNING: This is a development server. Do not use it in a production deployment. Use a production WSGI server instead.\n",
      " * Running on http://127.0.0.1:5000\n",
      "Press CTRL+C to quit\n",
      "127.0.0.1 - - [25/Aug/2024 15:21:11] \"GET / HTTP/1.1\" 200 -\n",
      "127.0.0.1 - - [25/Aug/2024 15:21:16] \"POST /predict HTTP/1.1\" 200 -\n",
      "127.0.0.1 - - [25/Aug/2024 15:21:28] \"POST /predict HTTP/1.1\" 200 -\n",
      "127.0.0.1 - - [25/Aug/2024 15:22:12] \"GET / HTTP/1.1\" 200 -\n",
      "127.0.0.1 - - [25/Aug/2024 15:22:15] \"POST /predict HTTP/1.1\" 200 -\n",
      "127.0.0.1 - - [25/Aug/2024 15:22:19] \"GET / HTTP/1.1\" 200 -\n",
      "127.0.0.1 - - [25/Aug/2024 15:23:00] \"POST /predict HTTP/1.1\" 200 -\n",
      "127.0.0.1 - - [26/Aug/2024 00:22:00] \"POST /predict HTTP/1.1\" 200 -\n",
      "127.0.0.1 - - [26/Aug/2024 00:22:08] \"POST /predict HTTP/1.1\" 200 -\n"
     ]
    }
   ],
   "source": [
    "from flask import Flask, request, jsonify, render_template\n",
    "import pickle\n",
    "\n",
    "app = Flask(__name__)\n",
    "\n",
    "# Load the trained model, which includes the vectorizer\n",
    "with open('model.pkl', 'rb') as model_file:\n",
    "    model = pickle.load(model_file)\n",
    "\n",
    "@app.route('/')\n",
    "def index():\n",
    "    return render_template('index.html')\n",
    "\n",
    "@app.route('/predict', methods=['POST'])\n",
    "def predict():\n",
    "    email_body = request.form.get('email_body')\n",
    "    \n",
    "    if not email_body:\n",
    "        return jsonify({\"error\": \"Email body cannot be empty\"}), 400\n",
    "    \n",
    "    input_vector = model['tf'].transform([email_body])\n",
    "    prediction = model['sgd'].predict(input_vector)[0]\n",
    "    result = \"Phishing Email\" if prediction == 0 else \"Legitimate Email\"\n",
    "    \n",
    "    return jsonify({\"prediction\": result})\n",
    "\n",
    "if __name__ == '__main__':\n",
    "    app.run(debug=True, use_reloader=False)"
   ]
  },
  {
   "cell_type": "code",
   "execution_count": null,
   "id": "4c21338e-2282-423f-b3ee-08bedb7cfd21",
   "metadata": {},
   "outputs": [],
   "source": []
  }
 ],
 "metadata": {
  "kernelspec": {
   "display_name": "Python 3 (ipykernel)",
   "language": "python",
   "name": "python3"
  },
  "language_info": {
   "codemirror_mode": {
    "name": "ipython",
    "version": 3
   },
   "file_extension": ".py",
   "mimetype": "text/x-python",
   "name": "python",
   "nbconvert_exporter": "python",
   "pygments_lexer": "ipython3",
   "version": "3.12.4"
  }
 },
 "nbformat": 4,
 "nbformat_minor": 5
}
